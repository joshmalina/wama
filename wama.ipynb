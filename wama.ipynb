{
 "cells": [
  {
   "cell_type": "code",
   "execution_count": 3,
   "metadata": {
    "collapsed": false
   },
   "outputs": [
    {
     "name": "stdout",
     "output_type": "stream",
     "text": [
      "The autoreload extension is already loaded. To reload it, use:\n",
      "  %reload_ext autoreload\n"
     ]
    }
   ],
   "source": [
    "import process as pr\n",
    "import model as md\n",
    "import pandas as pd\n",
    "import forest as fr\n",
    "%load_ext autoreload\n",
    "%autoreload 2"
   ]
  },
  {
   "cell_type": "code",
   "execution_count": 4,
   "metadata": {
    "collapsed": true
   },
   "outputs": [],
   "source": [
    "%reload_ext autoreload"
   ]
  },
  {
   "cell_type": "code",
   "execution_count": 6,
   "metadata": {
    "collapsed": true
   },
   "outputs": [],
   "source": [
    "import matplotlib.pyplot as plt\n",
    "%matplotlib inline"
   ]
  },
  {
   "cell_type": "code",
   "execution_count": null,
   "metadata": {
    "collapsed": true
   },
   "outputs": [],
   "source": [
    "# the raw training data\n",
    "raw = pr.get_raw('train')\n",
    "# the processed training data\n",
    "train_p = pr.get_post('train')\n",
    "# the random forest\n",
    "rf = fr.get_forest(train_p)\n",
    "# the processed test data\n",
    "test_p = pr.get_post('test')\n",
    "# predicting the probabilities and aggregating the data\n",
    "final = md.prep_for_submission(rf, test_p)\n",
    "# saving the file to csv for upload\n",
    "final.to_csv('final.csv', index=False)"
   ]
  },
  {
   "cell_type": "code",
   "execution_count": 9,
   "metadata": {
    "collapsed": false
   },
   "outputs": [],
   "source": [
    "X = train.drop('TripType', axis=1)\n",
    "y = train.TripType # equivalent y = train_p.loc[:, 'TripType']"
   ]
  },
  {
   "cell_type": "code",
   "execution_count": 248,
   "metadata": {
    "collapsed": false,
    "scrolled": true
   },
   "outputs": [
    {
     "data": {
      "text/html": [
       "<div>\n",
       "<table border=\"1\" class=\"dataframe\">\n",
       "  <thead>\n",
       "    <tr style=\"text-align: right;\">\n",
       "      <th></th>\n",
       "      <th>percDist</th>\n",
       "    </tr>\n",
       "    <tr>\n",
       "      <th>TripType</th>\n",
       "      <th></th>\n",
       "    </tr>\n",
       "  </thead>\n",
       "  <tbody>\n",
       "    <tr>\n",
       "      <th>14</th>\n",
       "      <td>0.005409</td>\n",
       "    </tr>\n",
       "    <tr>\n",
       "      <th>23</th>\n",
       "      <td>0.050228</td>\n",
       "    </tr>\n",
       "    <tr>\n",
       "      <th>4</th>\n",
       "      <td>0.139246</td>\n",
       "    </tr>\n",
       "    <tr>\n",
       "      <th>19</th>\n",
       "      <td>0.183601</td>\n",
       "    </tr>\n",
       "    <tr>\n",
       "      <th>31</th>\n",
       "      <td>0.272775</td>\n",
       "    </tr>\n",
       "  </tbody>\n",
       "</table>\n",
       "</div>"
      ],
      "text/plain": [
       "          percDist\n",
       "TripType          \n",
       "14        0.005409\n",
       "23        0.050228\n",
       "4         0.139246\n",
       "19        0.183601\n",
       "31        0.272775"
      ]
     },
     "execution_count": 248,
     "metadata": {},
     "output_type": "execute_result"
    }
   ],
   "source": [
    "# without some adjustment, k nearest neighbors won't work well -- the classes are highly skewed\n",
    "perc = train_p.groupby('TripType').size() / train_p.shape[0] * 100.0\n",
    "pd.DataFrame(perc, columns=['percDist']).sort_values(by='percDist'))"
   ]
  },
  {
   "cell_type": "code",
   "execution_count": 11,
   "metadata": {
    "collapsed": true
   },
   "outputs": [],
   "source": [
    "from sklearn.cross_validation import train_test_split"
   ]
  },
  {
   "cell_type": "code",
   "execution_count": 5,
   "metadata": {
    "collapsed": false
   },
   "outputs": [
    {
     "name": "stderr",
     "output_type": "stream",
     "text": [
      "[Parallel(n_jobs=1)]: Done   1 jobs       | elapsed:    0.2s\n",
      "[Parallel(n_jobs=1)]: Done  50 jobs       | elapsed:   12.3s\n",
      "[Parallel(n_jobs=1)]: Done 200 jobs       | elapsed:   48.0s\n",
      "[Parallel(n_jobs=1)]: Done 450 jobs       | elapsed:  1.8min\n",
      "[Parallel(n_jobs=1)]: Done 800 jobs       | elapsed:  3.2min\n",
      "[Parallel(n_jobs=1)]: Done 1000 out of 1000 | elapsed:  4.0min finished\n",
      "[Parallel(n_jobs=1)]: Done   1 jobs       | elapsed:    0.0s\n",
      "[Parallel(n_jobs=1)]: Done  50 jobs       | elapsed:    2.0s\n",
      "[Parallel(n_jobs=1)]: Done 200 jobs       | elapsed:   12.6s\n",
      "[Parallel(n_jobs=1)]: Done 450 jobs       | elapsed:   29.9s\n",
      "[Parallel(n_jobs=1)]: Done 800 jobs       | elapsed:   55.6s\n",
      "[Parallel(n_jobs=1)]: Done 1000 out of 1000 | elapsed:  1.2min finished\n"
     ]
    }
   ],
   "source": [
    "train = pr.get_post('train')\n",
    "rf = fr.get_forest(train)\n",
    "test = pr.get_post('test')\n",
    "final7 = md.prep_for_submission(rf=rf, test=test)"
   ]
  },
  {
   "cell_type": "code",
   "execution_count": 145,
   "metadata": {
    "collapsed": true
   },
   "outputs": [],
   "source": [
    "train = pr.get_post('train')"
   ]
  },
  {
   "cell_type": "code",
   "execution_count": 12,
   "metadata": {
    "collapsed": false
   },
   "outputs": [],
   "source": [
    "train_x, test_x, labels_x, labels_y = train_test_split(X, y)"
   ]
  },
  {
   "cell_type": "code",
   "execution_count": 19,
   "metadata": {
    "collapsed": false
   },
   "outputs": [
    {
     "name": "stderr",
     "output_type": "stream",
     "text": [
      "[Parallel(n_jobs=2)]: Done   1 out of 100 | elapsed:    0.4s remaining:   41.8s\n",
      "[Parallel(n_jobs=2)]: Done 100 out of 100 | elapsed:   13.9s finished\n"
     ]
    },
    {
     "data": {
      "text/plain": [
       "0.64318843988032248"
      ]
     },
     "execution_count": 19,
     "metadata": {},
     "output_type": "execute_result"
    }
   ],
   "source": [
    "rf = fr.get_forest(train, n_estimators=100)\n",
    "rf.oob_score_"
   ]
  },
  {
   "cell_type": "code",
   "execution_count": 24,
   "metadata": {
    "collapsed": false
   },
   "outputs": [
    {
     "name": "stderr",
     "output_type": "stream",
     "text": [
      "[Parallel(n_jobs=-1)]: Done   1 out of 1000 | elapsed:    0.6s remaining:  9.2min\n",
      "[Parallel(n_jobs=-1)]: Done 1000 out of 1000 | elapsed:  2.3min finished\n"
     ]
    },
    {
     "data": {
      "text/plain": [
       "0.64823162048106198"
      ]
     },
     "execution_count": 24,
     "metadata": {},
     "output_type": "execute_result"
    }
   ],
   "source": [
    "rf = fr.get_forest(train, n_estimators=1000)\n",
    "rf.oob_score_"
   ]
  },
  {
   "cell_type": "code",
   "execution_count": 168,
   "metadata": {
    "collapsed": false
   },
   "outputs": [
    {
     "name": "stderr",
     "output_type": "stream",
     "text": [
      "[Parallel(n_jobs=1)]: Done   1 jobs       | elapsed:    0.3s\n",
      "[Parallel(n_jobs=1)]: Done  10 out of  10 | elapsed:    3.2s finished\n",
      "/Users/jm/miniconda/envs/newenv/lib/python2.7/site-packages/sklearn/ensemble/forest.py:379: UserWarning: Some inputs do not have OOB scores. This probably means too few trees were used to compute any reliable oob estimates.\n",
      "  warn(\"Some inputs do not have OOB scores. \"\n",
      "[Parallel(n_jobs=1)]: Done   1 jobs       | elapsed:    0.4s\n",
      "[Parallel(n_jobs=1)]: Done  20 out of  20 | elapsed:    6.3s finished\n",
      "[Parallel(n_jobs=1)]: Done   1 jobs       | elapsed:    0.3s\n",
      "[Parallel(n_jobs=1)]: Done  30 out of  30 | elapsed:    9.8s finished\n",
      "[Parallel(n_jobs=1)]: Done   1 jobs       | elapsed:    0.3s\n",
      "[Parallel(n_jobs=1)]: Done  40 out of  40 | elapsed:   11.4s finished\n",
      "[Parallel(n_jobs=1)]: Done   1 jobs       | elapsed:    0.3s\n",
      "[Parallel(n_jobs=1)]: Done  50 jobs       | elapsed:   14.3s\n",
      "[Parallel(n_jobs=1)]: Done  50 out of  50 | elapsed:   14.3s finished\n"
     ]
    }
   ],
   "source": [
    "sizes = [100,500,1000]\n",
    "scores = []\n",
    "for i in sizes:\n",
    "    rf = fr.get_forest(train, n_estimators=i)\n",
    "    score = rf.oob_score_\n",
    "    scores.append(score)"
   ]
  },
  {
   "cell_type": "code",
   "execution_count": 170,
   "metadata": {
    "collapsed": false
   },
   "outputs": [
    {
     "name": "stderr",
     "output_type": "stream",
     "text": [
      "[Parallel(n_jobs=1)]: Done   1 jobs       | elapsed:    0.5s\n",
      "[Parallel(n_jobs=1)]: Done  50 jobs       | elapsed:   18.9s\n",
      "[Parallel(n_jobs=1)]: Done  50 out of  50 | elapsed:   18.9s finished\n"
     ]
    },
    {
     "data": {
      "text/plain": [
       "0.61974940879812901"
      ]
     },
     "execution_count": 170,
     "metadata": {},
     "output_type": "execute_result"
    }
   ],
   "source": [
    "rf = fr.get_forest(train, n_estimators=50)\n",
    "score = rf.oob_score_\n",
    "score    "
   ]
  },
  {
   "cell_type": "code",
   "execution_count": 186,
   "metadata": {
    "collapsed": false
   },
   "outputs": [
    {
     "name": "stderr",
     "output_type": "stream",
     "text": [
      "[Parallel(n_jobs=1)]: Done   1 jobs       | elapsed:    0.2s\n",
      "[Parallel(n_jobs=1)]: Done  50 jobs       | elapsed:   10.9s\n",
      "[Parallel(n_jobs=1)]: Done  50 out of  50 | elapsed:   10.9s finished\n",
      "[Parallel(n_jobs=1)]: Done   1 jobs       | elapsed:    0.2s\n",
      "[Parallel(n_jobs=1)]: Done  50 jobs       | elapsed:   10.3s\n",
      "[Parallel(n_jobs=1)]: Done 100 out of 100 | elapsed:   20.8s finished\n",
      "[Parallel(n_jobs=1)]: Done   1 jobs       | elapsed:    0.2s\n",
      "[Parallel(n_jobs=1)]: Done  50 jobs       | elapsed:   10.5s\n",
      "[Parallel(n_jobs=1)]: Done 150 out of 150 | elapsed:   31.7s finished\n"
     ]
    },
    {
     "data": {
      "text/plain": [
       "[0.64173819882674188, 0.64355426645239677, 0.64496531180182648]"
      ]
     },
     "execution_count": 186,
     "metadata": {},
     "output_type": "execute_result"
    }
   ],
   "source": [
    "scores = []\n",
    "depths = [50, 100, 150]\n",
    "for i in depths:\n",
    "    rf = fr.get_forest(train, n_estimators=i)\n",
    "    score = rf.oob_score_\n",
    "    scores.append(score)\n",
    "scores"
   ]
  },
  {
   "cell_type": "code",
   "execution_count": 188,
   "metadata": {
    "collapsed": false
   },
   "outputs": [
    {
     "name": "stderr",
     "output_type": "stream",
     "text": [
      "[Parallel(n_jobs=1)]: Done   1 jobs       | elapsed:    0.2s\n",
      "[Parallel(n_jobs=1)]: Done  50 jobs       | elapsed:   11.4s\n",
      "[Parallel(n_jobs=1)]: Done  50 out of  50 | elapsed:   11.4s finished\n",
      "[Parallel(n_jobs=1)]: Done   1 jobs       | elapsed:    0.2s\n",
      "[Parallel(n_jobs=1)]: Done  50 jobs       | elapsed:   10.7s\n",
      "[Parallel(n_jobs=1)]: Done 100 out of 100 | elapsed:   21.2s finished\n",
      "[Parallel(n_jobs=1)]: Done   1 jobs       | elapsed:    0.2s\n",
      "[Parallel(n_jobs=1)]: Done  50 jobs       | elapsed:   10.4s\n",
      "[Parallel(n_jobs=1)]: Done 150 out of 150 | elapsed:   32.5s finished\n"
     ]
    },
    {
     "data": {
      "text/plain": [
       "[0.63894223859731636, 0.64389396255503728, 0.64480852898522323]"
      ]
     },
     "execution_count": 188,
     "metadata": {},
     "output_type": "execute_result"
    }
   ],
   "source": [
    "scores = []\n",
    "depths = [50, 100, 150]\n",
    "for i in depths:\n",
    "    rf = fr.get_forest(train.drop(['ratioReturnsToPurchases'], axis=1), n_estimators=i)\n",
    "    score = rf.oob_score_\n",
    "    scores.append(score)\n",
    "scores"
   ]
  },
  {
   "cell_type": "code",
   "execution_count": 189,
   "metadata": {
    "collapsed": false
   },
   "outputs": [
    {
     "name": "stderr",
     "output_type": "stream",
     "text": [
      "[Parallel(n_jobs=1)]: Done   1 jobs       | elapsed:    0.2s\n",
      "[Parallel(n_jobs=1)]: Done  50 jobs       | elapsed:   11.1s\n",
      "[Parallel(n_jobs=1)]: Done 200 jobs       | elapsed:   42.2s\n",
      "[Parallel(n_jobs=1)]: Done 450 jobs       | elapsed:  1.6min\n",
      "[Parallel(n_jobs=1)]: Done 800 jobs       | elapsed:  2.9min\n",
      "[Parallel(n_jobs=1)]: Done 1000 out of 1000 | elapsed:  3.6min finished\n"
     ]
    },
    {
     "data": {
      "text/plain": [
       "[0.64747383686747928]"
      ]
     },
     "execution_count": 189,
     "metadata": {},
     "output_type": "execute_result"
    }
   ],
   "source": [
    "scores = []\n",
    "depths = [10000]\n",
    "for i in depths:\n",
    "    rf = fr.get_forest(train, n_estimators=i)\n",
    "    score = rf.oob_score_\n",
    "    scores.append(score)\n",
    "scores"
   ]
  },
  {
   "cell_type": "code",
   "execution_count": 191,
   "metadata": {
    "collapsed": false
   },
   "outputs": [
    {
     "name": "stderr",
     "output_type": "stream",
     "text": [
      "[Parallel(n_jobs=1)]: Done   1 jobs       | elapsed:    0.2s\n",
      "[Parallel(n_jobs=1)]: Done  50 jobs       | elapsed:   11.2s\n",
      "[Parallel(n_jobs=1)]: Done 200 jobs       | elapsed:   45.6s\n",
      "[Parallel(n_jobs=1)]: Done 450 jobs       | elapsed:  1.7min\n",
      "[Parallel(n_jobs=1)]: Done 800 jobs       | elapsed:  3.0min\n",
      "[Parallel(n_jobs=1)]: Done 1250 jobs       | elapsed:  4.6min\n",
      "[Parallel(n_jobs=1)]: Done 1800 jobs       | elapsed:  6.5min\n",
      "[Parallel(n_jobs=1)]: Done 2450 jobs       | elapsed:  8.7min\n",
      "[Parallel(n_jobs=1)]: Done 3200 jobs       | elapsed: 11.4min\n",
      "[Parallel(n_jobs=1)]: Done 4050 jobs       | elapsed: 14.5min\n",
      "[Parallel(n_jobs=1)]: Done 5000 jobs       | elapsed: 18.2min\n",
      "[Parallel(n_jobs=1)]: Done 6050 jobs       | elapsed: 22.1min\n",
      "[Parallel(n_jobs=1)]: Done 7200 jobs       | elapsed: 26.4min\n",
      "[Parallel(n_jobs=1)]: Done 8450 jobs       | elapsed: 31.1min\n",
      "[Parallel(n_jobs=1)]: Done 9800 jobs       | elapsed: 36.1min\n",
      "[Parallel(n_jobs=1)]: Done 10000 out of 10000 | elapsed: 36.9min finished\n"
     ]
    },
    {
     "data": {
      "text/plain": [
       "[0.64661153137616112]"
      ]
     },
     "execution_count": 191,
     "metadata": {},
     "output_type": "execute_result"
    }
   ],
   "source": [
    "scores = []\n",
    "depths = [10000]\n",
    "for i in depths:\n",
    "    rf = fr.get_forest(train, n_estimators=i)\n",
    "    score = rf.oob_score_\n",
    "    scores.append(score)\n",
    "scores"
   ]
  },
  {
   "cell_type": "code",
   "execution_count": 190,
   "metadata": {
    "collapsed": false
   },
   "outputs": [
    {
     "name": "stderr",
     "output_type": "stream",
     "text": [
      "[Parallel(n_jobs=1)]: Done   1 jobs       | elapsed:    0.3s\n",
      "[Parallel(n_jobs=1)]: Done  50 jobs       | elapsed:   14.9s\n",
      "[Parallel(n_jobs=1)]: Done 200 jobs       | elapsed:  1.1min\n",
      "[Parallel(n_jobs=1)]: Done 450 jobs       | elapsed:  2.4min\n",
      "[Parallel(n_jobs=1)]: Done 800 jobs       | elapsed:  4.1min\n",
      "[Parallel(n_jobs=1)]: Done 1000 out of 1000 | elapsed:  5.1min finished\n"
     ]
    },
    {
     "data": {
      "text/plain": [
       "[0.64551405165993803]"
      ]
     },
     "execution_count": 190,
     "metadata": {},
     "output_type": "execute_result"
    }
   ],
   "source": [
    "scores = []\n",
    "depths = [1000]\n",
    "for i in depths:\n",
    "    rf = fr.get_forest(train, n_estimators=i)\n",
    "    score = rf.oob_score_\n",
    "    scores.append(score)\n",
    "scores"
   ]
  },
  {
   "cell_type": "code",
   "execution_count": 173,
   "metadata": {
    "collapsed": false
   },
   "outputs": [
    {
     "data": {
      "text/plain": [
       "[0.52340636799540108,\n",
       " 0.62692222265773001,\n",
       " 0.63749199754373587,\n",
       " 0.63547995139732683,\n",
       " 0.63452618926299009]"
      ]
     },
     "execution_count": 173,
     "metadata": {},
     "output_type": "execute_result"
    }
   ],
   "source": [
    "scores"
   ]
  },
  {
   "cell_type": "code",
   "execution_count": 169,
   "metadata": {
    "collapsed": false
   },
   "outputs": [
    {
     "data": {
      "text/plain": [
       "[0.56973569030167626,\n",
       " 0.61017259175061078,\n",
       " 0.62225793386378181,\n",
       " 0.62922170396791177,\n",
       " 0.63256640405544884]"
      ]
     },
     "execution_count": 169,
     "metadata": {},
     "output_type": "execute_result"
    }
   ],
   "source": [
    "scores"
   ]
  },
  {
   "cell_type": "code",
   "execution_count": 155,
   "metadata": {
    "collapsed": false
   },
   "outputs": [
    {
     "name": "stdout",
     "output_type": "stream",
     "text": [
      "True\n"
     ]
    }
   ],
   "source": [
    "def f(a,b):\n",
    "    if a == -1 or b == -1:\n",
    "        return False\n",
    "    else:\n",
    "        return True\n",
    "print reduce(f, [-1, 2, 3], True)"
   ]
  },
  {
   "cell_type": "code",
   "execution_count": 156,
   "metadata": {
    "collapsed": false
   },
   "outputs": [],
   "source": [
    "test = pr.get_post('test')"
   ]
  },
  {
   "cell_type": "code",
   "execution_count": 25,
   "metadata": {
    "collapsed": false
   },
   "outputs": [
    {
     "name": "stderr",
     "output_type": "stream",
     "text": [
      "[Parallel(n_jobs=4)]: Done   1 out of 342 | elapsed:    0.1s remaining:   22.6s\n",
      "[Parallel(n_jobs=4)]: Done 1000 out of 1000 | elapsed:   36.9s finished\n"
     ]
    },
    {
     "data": {
      "text/plain": [
       "(95674, 39)"
      ]
     },
     "execution_count": 25,
     "metadata": {},
     "output_type": "execute_result"
    }
   ],
   "source": [
    "final7 = md.prep_for_submission(rf=rf, test=test)\n",
    "final7.shape"
   ]
  },
  {
   "cell_type": "code",
   "execution_count": 26,
   "metadata": {
    "collapsed": true
   },
   "outputs": [],
   "source": [
    "final7.to_csv('submis6.csv', index=False)"
   ]
  },
  {
   "cell_type": "code",
   "execution_count": 6,
   "metadata": {
    "collapsed": true
   },
   "outputs": [],
   "source": [
    "from sklearn.cross_validation import cross_val_score"
   ]
  },
  {
   "cell_type": "code",
   "execution_count": 157,
   "metadata": {
    "collapsed": false
   },
   "outputs": [],
   "source": [
    "X = train.drop(['TripType'], axis=1)\n",
    "y = train.TripType"
   ]
  },
  {
   "cell_type": "code",
   "execution_count": 9,
   "metadata": {
    "collapsed": false
   },
   "outputs": [
    {
     "name": "stderr",
     "output_type": "stream",
     "text": [
      "[Parallel(n_jobs=1)]: Done   1 jobs       | elapsed:    0.3s\n",
      "[Parallel(n_jobs=1)]: Done  50 jobs       | elapsed:   13.1s\n",
      "[Parallel(n_jobs=1)]: Done 200 jobs       | elapsed:   52.6s\n",
      "[Parallel(n_jobs=1)]: Done 450 jobs       | elapsed:  2.0min\n",
      "[Parallel(n_jobs=1)]: Done 800 jobs       | elapsed:  3.9min\n",
      "[Parallel(n_jobs=1)]: Done 1000 out of 1000 | elapsed:  4.9min finished\n",
      "[Parallel(n_jobs=1)]: Done   1 jobs       | elapsed:    0.1s\n",
      "[Parallel(n_jobs=1)]: Done  50 jobs       | elapsed:   10.6s\n",
      "[Parallel(n_jobs=1)]: Done 200 jobs       | elapsed:   25.2s\n",
      "[Parallel(n_jobs=1)]: Done 450 jobs       | elapsed:   45.2s\n",
      "[Parallel(n_jobs=1)]: Done 800 jobs       | elapsed:  1.4min\n",
      "[Parallel(n_jobs=1)]: Done 1000 out of 1000 | elapsed:  1.8min finished\n",
      "[Parallel(n_jobs=1)]: Done   1 jobs       | elapsed:    0.2s\n",
      "[Parallel(n_jobs=1)]: Done  50 jobs       | elapsed:   12.9s\n",
      "[Parallel(n_jobs=1)]: Done 200 jobs       | elapsed:   49.9s\n",
      "[Parallel(n_jobs=1)]: Done 450 jobs       | elapsed:  1.9min\n",
      "[Parallel(n_jobs=1)]: Done 800 jobs       | elapsed:  3.3min\n",
      "[Parallel(n_jobs=1)]: Done 1000 out of 1000 | elapsed:  4.1min finished\n",
      "[Parallel(n_jobs=1)]: Done   1 jobs       | elapsed:    0.1s\n",
      "[Parallel(n_jobs=1)]: Done  50 jobs       | elapsed:    2.8s\n",
      "[Parallel(n_jobs=1)]: Done 200 jobs       | elapsed:   10.7s\n",
      "[Parallel(n_jobs=1)]: Done 450 jobs       | elapsed:   23.7s\n",
      "[Parallel(n_jobs=1)]: Done 800 jobs       | elapsed:   42.1s\n",
      "[Parallel(n_jobs=1)]: Done 1000 out of 1000 | elapsed:   52.7s finished\n",
      "[Parallel(n_jobs=1)]: Done   1 jobs       | elapsed:    0.2s\n",
      "[Parallel(n_jobs=1)]: Done  50 jobs       | elapsed:   11.7s\n",
      "[Parallel(n_jobs=1)]: Done 200 jobs       | elapsed:   48.4s\n",
      "[Parallel(n_jobs=1)]: Done 450 jobs       | elapsed:  1.9min\n",
      "[Parallel(n_jobs=1)]: Done 800 jobs       | elapsed:  3.4min\n",
      "[Parallel(n_jobs=1)]: Done 1000 out of 1000 | elapsed:  4.2min finished\n",
      "[Parallel(n_jobs=1)]: Done   1 jobs       | elapsed:    0.0s\n",
      "[Parallel(n_jobs=1)]: Done  50 jobs       | elapsed:    2.2s\n",
      "[Parallel(n_jobs=1)]: Done 200 jobs       | elapsed:    9.1s\n",
      "[Parallel(n_jobs=1)]: Done 450 jobs       | elapsed:   20.7s\n",
      "[Parallel(n_jobs=1)]: Done 800 jobs       | elapsed:   37.2s\n",
      "[Parallel(n_jobs=1)]: Done 1000 out of 1000 | elapsed:   46.4s finished\n"
     ]
    },
    {
     "data": {
      "text/plain": [
       "array([ 0.5879901 ,  0.62746143,  0.58180392])"
      ]
     },
     "execution_count": 9,
     "metadata": {},
     "output_type": "execute_result"
    }
   ],
   "source": [
    "cross_val_score(rf, X, y)"
   ]
  },
  {
   "cell_type": "code",
   "execution_count": 158,
   "metadata": {
    "collapsed": false
   },
   "outputs": [
    {
     "name": "stderr",
     "output_type": "stream",
     "text": [
      "[Parallel(n_jobs=1)]: Done   1 jobs       | elapsed:    0.3s\n",
      "[Parallel(n_jobs=1)]: Done  50 jobs       | elapsed:   13.9s\n",
      "[Parallel(n_jobs=1)]: Done 200 jobs       | elapsed:   52.2s\n",
      "[Parallel(n_jobs=1)]: Done 450 jobs       | elapsed:  2.0min\n",
      "[Parallel(n_jobs=1)]: Done 800 jobs       | elapsed:  3.7min\n",
      "[Parallel(n_jobs=1)]: Done 1000 out of 1000 | elapsed:  4.6min finished\n",
      "[Parallel(n_jobs=1)]: Done   1 jobs       | elapsed:    0.1s\n",
      "[Parallel(n_jobs=1)]: Done  50 jobs       | elapsed:    2.2s\n",
      "[Parallel(n_jobs=1)]: Done 200 jobs       | elapsed:    9.3s\n",
      "[Parallel(n_jobs=1)]: Done 450 jobs       | elapsed:   20.9s\n",
      "[Parallel(n_jobs=1)]: Done 800 jobs       | elapsed:   36.8s\n",
      "[Parallel(n_jobs=1)]: Done 1000 out of 1000 | elapsed:   45.9s finished\n",
      "[Parallel(n_jobs=1)]: Done   1 jobs       | elapsed:    0.2s\n",
      "[Parallel(n_jobs=1)]: Done  50 jobs       | elapsed:   12.3s\n",
      "[Parallel(n_jobs=1)]: Done 200 jobs       | elapsed:   48.9s\n",
      "[Parallel(n_jobs=1)]: Done 450 jobs       | elapsed:  1.9min\n",
      "[Parallel(n_jobs=1)]: Done 800 jobs       | elapsed:  3.4min\n",
      "[Parallel(n_jobs=1)]: Done 1000 out of 1000 | elapsed:  4.2min finished\n",
      "[Parallel(n_jobs=1)]: Done   1 jobs       | elapsed:    0.1s\n",
      "[Parallel(n_jobs=1)]: Done  50 jobs       | elapsed:    2.6s\n",
      "[Parallel(n_jobs=1)]: Done 200 jobs       | elapsed:   10.5s\n",
      "[Parallel(n_jobs=1)]: Done 450 jobs       | elapsed:   23.9s\n",
      "[Parallel(n_jobs=1)]: Done 800 jobs       | elapsed:   42.7s\n",
      "[Parallel(n_jobs=1)]: Done 1000 out of 1000 | elapsed:   53.2s finished\n",
      "[Parallel(n_jobs=1)]: Done   1 jobs       | elapsed:    0.3s\n",
      "[Parallel(n_jobs=1)]: Done  50 jobs       | elapsed:   12.1s\n",
      "[Parallel(n_jobs=1)]: Done 200 jobs       | elapsed:   49.2s\n",
      "[Parallel(n_jobs=1)]: Done 450 jobs       | elapsed:  1.9min\n",
      "[Parallel(n_jobs=1)]: Done 800 jobs       | elapsed:  3.4min\n",
      "[Parallel(n_jobs=1)]: Done 1000 out of 1000 | elapsed:  4.3min finished\n",
      "[Parallel(n_jobs=1)]: Done   1 jobs       | elapsed:    0.1s\n",
      "[Parallel(n_jobs=1)]: Done  50 jobs       | elapsed:    2.3s\n",
      "[Parallel(n_jobs=1)]: Done 200 jobs       | elapsed:    9.3s\n",
      "[Parallel(n_jobs=1)]: Done 450 jobs       | elapsed:   21.0s\n",
      "[Parallel(n_jobs=1)]: Done 800 jobs       | elapsed:   37.7s\n",
      "[Parallel(n_jobs=1)]: Done 1000 out of 1000 | elapsed:   47.1s finished\n"
     ]
    },
    {
     "data": {
      "text/plain": [
       "array([ 0.62039678,  0.64273172,  0.60997647])"
      ]
     },
     "execution_count": 158,
     "metadata": {},
     "output_type": "execute_result"
    }
   ],
   "source": [
    "cross_val_score(rf, X, y)"
   ]
  },
  {
   "cell_type": "code",
   "execution_count": 7,
   "metadata": {
    "collapsed": false
   },
   "outputs": [],
   "source": [
    "imps = rf.feature_importances_"
   ]
  },
  {
   "cell_type": "code",
   "execution_count": 160,
   "metadata": {
    "collapsed": false
   },
   "outputs": [
    {
     "data": {
      "text/plain": [
       "86"
      ]
     },
     "execution_count": 160,
     "metadata": {},
     "output_type": "execute_result"
    }
   ],
   "source": [
    "len(imps)"
   ]
  },
  {
   "cell_type": "code",
   "execution_count": 161,
   "metadata": {
    "collapsed": false
   },
   "outputs": [
    {
     "data": {
      "text/plain": [
       "86"
      ]
     },
     "execution_count": 161,
     "metadata": {},
     "output_type": "execute_result"
    }
   ],
   "source": [
    "len(rf.col)"
   ]
  },
  {
   "cell_type": "code",
   "execution_count": 162,
   "metadata": {
    "collapsed": true
   },
   "outputs": [],
   "source": [
    "featImps = pd.DataFrame({\"features\":rf.col, \"importance\":imps})"
   ]
  },
  {
   "cell_type": "code",
   "execution_count": 163,
   "metadata": {
    "collapsed": false
   },
   "outputs": [
    {
     "data": {
      "text/html": [
       "<div>\n",
       "<table border=\"1\" class=\"dataframe\">\n",
       "  <thead>\n",
       "    <tr style=\"text-align: right;\">\n",
       "      <th></th>\n",
       "      <th>features</th>\n",
       "      <th>importance</th>\n",
       "    </tr>\n",
       "  </thead>\n",
       "  <tbody>\n",
       "    <tr>\n",
       "      <th>59</th>\n",
       "      <td>SEASONAL</td>\n",
       "      <td>0.000000</td>\n",
       "    </tr>\n",
       "    <tr>\n",
       "      <th>48</th>\n",
       "      <td>OTHER DEPARTMENTS</td>\n",
       "      <td>0.000155</td>\n",
       "    </tr>\n",
       "    <tr>\n",
       "      <th>61</th>\n",
       "      <td>SHEER HOSIERY</td>\n",
       "      <td>0.000156</td>\n",
       "    </tr>\n",
       "    <tr>\n",
       "      <th>43</th>\n",
       "      <td>MENSWEAR</td>\n",
       "      <td>0.000172</td>\n",
       "    </tr>\n",
       "    <tr>\n",
       "      <th>55</th>\n",
       "      <td>PLUS AND MATERNITY</td>\n",
       "      <td>0.000244</td>\n",
       "    </tr>\n",
       "    <tr>\n",
       "      <th>10</th>\n",
       "      <td>CAMERAS AND SUPPLIES</td>\n",
       "      <td>0.000248</td>\n",
       "    </tr>\n",
       "    <tr>\n",
       "      <th>36</th>\n",
       "      <td>LADIES SOCKS</td>\n",
       "      <td>0.000255</td>\n",
       "    </tr>\n",
       "    <tr>\n",
       "      <th>7</th>\n",
       "      <td>BOOKS AND MAGAZINES</td>\n",
       "      <td>0.000393</td>\n",
       "    </tr>\n",
       "    <tr>\n",
       "      <th>14</th>\n",
       "      <td>CONCEPT STORES</td>\n",
       "      <td>0.000427</td>\n",
       "    </tr>\n",
       "    <tr>\n",
       "      <th>1</th>\n",
       "      <td>ACCESSORIES</td>\n",
       "      <td>0.000479</td>\n",
       "    </tr>\n",
       "    <tr>\n",
       "      <th>65</th>\n",
       "      <td>SWIMWEAR/OUTERWEAR</td>\n",
       "      <td>0.000515</td>\n",
       "    </tr>\n",
       "    <tr>\n",
       "      <th>47</th>\n",
       "      <td>OPTICAL - LENSES</td>\n",
       "      <td>0.000528</td>\n",
       "    </tr>\n",
       "    <tr>\n",
       "      <th>58</th>\n",
       "      <td>SEAFOOD</td>\n",
       "      <td>0.000562</td>\n",
       "    </tr>\n",
       "    <tr>\n",
       "      <th>9</th>\n",
       "      <td>BRAS &amp; SHAPEWEAR</td>\n",
       "      <td>0.000701</td>\n",
       "    </tr>\n",
       "    <tr>\n",
       "      <th>71</th>\n",
       "      <td>UNKNOWN</td>\n",
       "      <td>0.000793</td>\n",
       "    </tr>\n",
       "    <tr>\n",
       "      <th>54</th>\n",
       "      <td>PLAYERS AND ELECTRONICS</td>\n",
       "      <td>0.000857</td>\n",
       "    </tr>\n",
       "    <tr>\n",
       "      <th>49</th>\n",
       "      <td>PAINT AND ACCESSORIES</td>\n",
       "      <td>0.000953</td>\n",
       "    </tr>\n",
       "    <tr>\n",
       "      <th>22</th>\n",
       "      <td>FURNITURE</td>\n",
       "      <td>0.000954</td>\n",
       "    </tr>\n",
       "    <tr>\n",
       "      <th>56</th>\n",
       "      <td>PRE PACKED DELI</td>\n",
       "      <td>0.000989</td>\n",
       "    </tr>\n",
       "    <tr>\n",
       "      <th>0</th>\n",
       "      <td>1-HR PHOTO</td>\n",
       "      <td>0.001042</td>\n",
       "    </tr>\n",
       "    <tr>\n",
       "      <th>63</th>\n",
       "      <td>SLEEPWEAR/FOUNDATIONS</td>\n",
       "      <td>0.001055</td>\n",
       "    </tr>\n",
       "    <tr>\n",
       "      <th>41</th>\n",
       "      <td>MEDIA AND GAMING</td>\n",
       "      <td>0.001290</td>\n",
       "    </tr>\n",
       "    <tr>\n",
       "      <th>27</th>\n",
       "      <td>HOME DECOR</td>\n",
       "      <td>0.001536</td>\n",
       "    </tr>\n",
       "    <tr>\n",
       "      <th>6</th>\n",
       "      <td>BEDDING</td>\n",
       "      <td>0.001667</td>\n",
       "    </tr>\n",
       "    <tr>\n",
       "      <th>4</th>\n",
       "      <td>BATH AND SHOWER</td>\n",
       "      <td>0.001690</td>\n",
       "    </tr>\n",
       "    <tr>\n",
       "      <th>35</th>\n",
       "      <td>JEWELRY AND SUNGLASSES</td>\n",
       "      <td>0.001746</td>\n",
       "    </tr>\n",
       "    <tr>\n",
       "      <th>26</th>\n",
       "      <td>HARDWARE</td>\n",
       "      <td>0.002071</td>\n",
       "    </tr>\n",
       "    <tr>\n",
       "      <th>24</th>\n",
       "      <td>GIRLS WEAR, 4-6X  AND 7-14</td>\n",
       "      <td>0.002168</td>\n",
       "    </tr>\n",
       "    <tr>\n",
       "      <th>8</th>\n",
       "      <td>BOYS WEAR</td>\n",
       "      <td>0.002199</td>\n",
       "    </tr>\n",
       "    <tr>\n",
       "      <th>13</th>\n",
       "      <td>COMM BREAD</td>\n",
       "      <td>0.002206</td>\n",
       "    </tr>\n",
       "    <tr>\n",
       "      <th>...</th>\n",
       "      <td>...</td>\n",
       "      <td>...</td>\n",
       "    </tr>\n",
       "    <tr>\n",
       "      <th>82</th>\n",
       "      <td>ratioReturnsToPurchases</td>\n",
       "      <td>0.007794</td>\n",
       "    </tr>\n",
       "    <tr>\n",
       "      <th>30</th>\n",
       "      <td>HOUSEHOLD CHEMICALS/SUPP</td>\n",
       "      <td>0.007833</td>\n",
       "    </tr>\n",
       "    <tr>\n",
       "      <th>34</th>\n",
       "      <td>INFANT CONSUMABLE HARDLINES</td>\n",
       "      <td>0.008621</td>\n",
       "    </tr>\n",
       "    <tr>\n",
       "      <th>25</th>\n",
       "      <td>GROCERY DRY GOODS</td>\n",
       "      <td>0.008829</td>\n",
       "    </tr>\n",
       "    <tr>\n",
       "      <th>42</th>\n",
       "      <td>MENS WEAR</td>\n",
       "      <td>0.009495</td>\n",
       "    </tr>\n",
       "    <tr>\n",
       "      <th>69</th>\n",
       "      <td>Thursday</td>\n",
       "      <td>0.009622</td>\n",
       "    </tr>\n",
       "    <tr>\n",
       "      <th>73</th>\n",
       "      <td>Wednesday</td>\n",
       "      <td>0.009657</td>\n",
       "    </tr>\n",
       "    <tr>\n",
       "      <th>70</th>\n",
       "      <td>Tuesday</td>\n",
       "      <td>0.009698</td>\n",
       "    </tr>\n",
       "    <tr>\n",
       "      <th>53</th>\n",
       "      <td>PHARMACY RX</td>\n",
       "      <td>0.009838</td>\n",
       "    </tr>\n",
       "    <tr>\n",
       "      <th>44</th>\n",
       "      <td>Monday</td>\n",
       "      <td>0.010287</td>\n",
       "    </tr>\n",
       "    <tr>\n",
       "      <th>23</th>\n",
       "      <td>Friday</td>\n",
       "      <td>0.011000</td>\n",
       "    </tr>\n",
       "    <tr>\n",
       "      <th>66</th>\n",
       "      <td>Saturday</td>\n",
       "      <td>0.011744</td>\n",
       "    </tr>\n",
       "    <tr>\n",
       "      <th>67</th>\n",
       "      <td>Sunday</td>\n",
       "      <td>0.011773</td>\n",
       "    </tr>\n",
       "    <tr>\n",
       "      <th>75</th>\n",
       "      <td>containsReturn</td>\n",
       "      <td>0.011885</td>\n",
       "    </tr>\n",
       "    <tr>\n",
       "      <th>85</th>\n",
       "      <td>totalReturns</td>\n",
       "      <td>0.012077</td>\n",
       "    </tr>\n",
       "    <tr>\n",
       "      <th>57</th>\n",
       "      <td>PRODUCE</td>\n",
       "      <td>0.012744</td>\n",
       "    </tr>\n",
       "    <tr>\n",
       "      <th>50</th>\n",
       "      <td>PERSONAL CARE</td>\n",
       "      <td>0.013244</td>\n",
       "    </tr>\n",
       "    <tr>\n",
       "      <th>60</th>\n",
       "      <td>SERVICE DELI</td>\n",
       "      <td>0.014964</td>\n",
       "    </tr>\n",
       "    <tr>\n",
       "      <th>52</th>\n",
       "      <td>PHARMACY OTC</td>\n",
       "      <td>0.015491</td>\n",
       "    </tr>\n",
       "    <tr>\n",
       "      <th>17</th>\n",
       "      <td>DSD GROCERY</td>\n",
       "      <td>0.017168</td>\n",
       "    </tr>\n",
       "    <tr>\n",
       "      <th>20</th>\n",
       "      <td>FINANCIAL SERVICES</td>\n",
       "      <td>0.018545</td>\n",
       "    </tr>\n",
       "    <tr>\n",
       "      <th>76</th>\n",
       "      <td>itemDist</td>\n",
       "      <td>0.029291</td>\n",
       "    </tr>\n",
       "    <tr>\n",
       "      <th>79</th>\n",
       "      <td>numTransactions</td>\n",
       "      <td>0.043149</td>\n",
       "    </tr>\n",
       "    <tr>\n",
       "      <th>81</th>\n",
       "      <td>numUniqueFinelines</td>\n",
       "      <td>0.049443</td>\n",
       "    </tr>\n",
       "    <tr>\n",
       "      <th>83</th>\n",
       "      <td>totalDistinctItemsBought</td>\n",
       "      <td>0.049872</td>\n",
       "    </tr>\n",
       "    <tr>\n",
       "      <th>74</th>\n",
       "      <td>avePurchaseSize</td>\n",
       "      <td>0.051197</td>\n",
       "    </tr>\n",
       "    <tr>\n",
       "      <th>80</th>\n",
       "      <td>numUniqueDepts</td>\n",
       "      <td>0.055506</td>\n",
       "    </tr>\n",
       "    <tr>\n",
       "      <th>84</th>\n",
       "      <td>totalItemsBought</td>\n",
       "      <td>0.066530</td>\n",
       "    </tr>\n",
       "    <tr>\n",
       "      <th>78</th>\n",
       "      <td>nextMostFreqFineline</td>\n",
       "      <td>0.139403</td>\n",
       "    </tr>\n",
       "    <tr>\n",
       "      <th>77</th>\n",
       "      <td>mostFreqFineline</td>\n",
       "      <td>0.141052</td>\n",
       "    </tr>\n",
       "  </tbody>\n",
       "</table>\n",
       "<p>86 rows × 2 columns</p>\n",
       "</div>"
      ],
      "text/plain": [
       "                       features  importance\n",
       "59                     SEASONAL    0.000000\n",
       "48            OTHER DEPARTMENTS    0.000155\n",
       "61                SHEER HOSIERY    0.000156\n",
       "43                     MENSWEAR    0.000172\n",
       "55           PLUS AND MATERNITY    0.000244\n",
       "10         CAMERAS AND SUPPLIES    0.000248\n",
       "36                 LADIES SOCKS    0.000255\n",
       "7           BOOKS AND MAGAZINES    0.000393\n",
       "14               CONCEPT STORES    0.000427\n",
       "1                   ACCESSORIES    0.000479\n",
       "65           SWIMWEAR/OUTERWEAR    0.000515\n",
       "47             OPTICAL - LENSES    0.000528\n",
       "58                      SEAFOOD    0.000562\n",
       "9              BRAS & SHAPEWEAR    0.000701\n",
       "71                      UNKNOWN    0.000793\n",
       "54      PLAYERS AND ELECTRONICS    0.000857\n",
       "49        PAINT AND ACCESSORIES    0.000953\n",
       "22                    FURNITURE    0.000954\n",
       "56              PRE PACKED DELI    0.000989\n",
       "0                    1-HR PHOTO    0.001042\n",
       "63        SLEEPWEAR/FOUNDATIONS    0.001055\n",
       "41             MEDIA AND GAMING    0.001290\n",
       "27                   HOME DECOR    0.001536\n",
       "6                       BEDDING    0.001667\n",
       "4               BATH AND SHOWER    0.001690\n",
       "35       JEWELRY AND SUNGLASSES    0.001746\n",
       "26                     HARDWARE    0.002071\n",
       "24   GIRLS WEAR, 4-6X  AND 7-14    0.002168\n",
       "8                     BOYS WEAR    0.002199\n",
       "13                   COMM BREAD    0.002206\n",
       "..                          ...         ...\n",
       "82      ratioReturnsToPurchases    0.007794\n",
       "30     HOUSEHOLD CHEMICALS/SUPP    0.007833\n",
       "34  INFANT CONSUMABLE HARDLINES    0.008621\n",
       "25            GROCERY DRY GOODS    0.008829\n",
       "42                    MENS WEAR    0.009495\n",
       "69                     Thursday    0.009622\n",
       "73                    Wednesday    0.009657\n",
       "70                      Tuesday    0.009698\n",
       "53                  PHARMACY RX    0.009838\n",
       "44                       Monday    0.010287\n",
       "23                       Friday    0.011000\n",
       "66                     Saturday    0.011744\n",
       "67                       Sunday    0.011773\n",
       "75               containsReturn    0.011885\n",
       "85                 totalReturns    0.012077\n",
       "57                      PRODUCE    0.012744\n",
       "50                PERSONAL CARE    0.013244\n",
       "60                 SERVICE DELI    0.014964\n",
       "52                 PHARMACY OTC    0.015491\n",
       "17                  DSD GROCERY    0.017168\n",
       "20           FINANCIAL SERVICES    0.018545\n",
       "76                     itemDist    0.029291\n",
       "79              numTransactions    0.043149\n",
       "81           numUniqueFinelines    0.049443\n",
       "83     totalDistinctItemsBought    0.049872\n",
       "74              avePurchaseSize    0.051197\n",
       "80               numUniqueDepts    0.055506\n",
       "84             totalItemsBought    0.066530\n",
       "78         nextMostFreqFineline    0.139403\n",
       "77             mostFreqFineline    0.141052\n",
       "\n",
       "[86 rows x 2 columns]"
      ]
     },
     "execution_count": 163,
     "metadata": {},
     "output_type": "execute_result"
    }
   ],
   "source": [
    "featImps.sort_values(by='importance')"
   ]
  },
  {
   "cell_type": "code",
   "execution_count": 22,
   "metadata": {
    "collapsed": false
   },
   "outputs": [
    {
     "name": "stderr",
     "output_type": "stream",
     "text": [
      "[Parallel(n_jobs=2)]: Done   1 out of 100 | elapsed:    0.1s remaining:   12.9s\n",
      "[Parallel(n_jobs=2)]: Done 100 out of 100 | elapsed:    5.5s finished\n",
      "[Parallel(n_jobs=2)]: Done   1 out of 100 | elapsed:    0.0s remaining:    3.0s\n",
      "[Parallel(n_jobs=2)]: Done 100 out of 100 | elapsed:    1.2s finished\n",
      "[Parallel(n_jobs=2)]: Done   1 out of 100 | elapsed:    0.1s remaining:   11.0s\n",
      "[Parallel(n_jobs=2)]: Done 100 out of 100 | elapsed:    5.6s finished\n",
      "[Parallel(n_jobs=2)]: Done   1 out of 100 | elapsed:    0.0s remaining:    3.5s\n",
      "[Parallel(n_jobs=2)]: Done 100 out of 100 | elapsed:    1.2s finished\n",
      "[Parallel(n_jobs=2)]: Done   1 out of 100 | elapsed:    0.1s remaining:   11.7s\n",
      "[Parallel(n_jobs=2)]: Done 100 out of 100 | elapsed:    5.5s finished\n",
      "[Parallel(n_jobs=2)]: Done   1 out of 100 | elapsed:    0.0s remaining:    2.6s\n",
      "[Parallel(n_jobs=2)]: Done 100 out of 100 | elapsed:    1.1s finished\n",
      "[Parallel(n_jobs=2)]: Done   1 out of 100 | elapsed:    0.1s remaining:   10.7s\n",
      "[Parallel(n_jobs=2)]: Done 100 out of 100 | elapsed:    5.4s finished\n",
      "[Parallel(n_jobs=2)]: Done   1 out of 100 | elapsed:    0.0s remaining:    2.1s\n",
      "[Parallel(n_jobs=2)]: Done 100 out of 100 | elapsed:    1.2s finished\n",
      "[Parallel(n_jobs=2)]: Done   1 out of 100 | elapsed:    0.1s remaining:   10.8s\n",
      "[Parallel(n_jobs=2)]: Done 100 out of 100 | elapsed:    5.5s finished\n",
      "[Parallel(n_jobs=2)]: Done   1 out of 100 | elapsed:    0.0s remaining:    2.3s\n",
      "[Parallel(n_jobs=2)]: Done 100 out of 100 | elapsed:    1.2s finished\n",
      "[Parallel(n_jobs=2)]: Done   1 out of 100 | elapsed:    0.1s remaining:   11.1s\n",
      "[Parallel(n_jobs=2)]: Done 100 out of 100 | elapsed:    5.6s finished\n",
      "[Parallel(n_jobs=2)]: Done   1 out of 100 | elapsed:    0.0s remaining:    2.7s\n",
      "[Parallel(n_jobs=2)]: Done 100 out of 100 | elapsed:    1.2s finished\n",
      "[Parallel(n_jobs=2)]: Done   1 out of 100 | elapsed:    0.1s remaining:   12.3s\n",
      "[Parallel(n_jobs=2)]: Done 100 out of 100 | elapsed:    5.5s finished\n",
      "[Parallel(n_jobs=2)]: Done   1 out of 100 | elapsed:    0.0s remaining:    2.2s\n",
      "[Parallel(n_jobs=2)]: Done 100 out of 100 | elapsed:    1.2s finished\n",
      "[Parallel(n_jobs=2)]: Done   1 out of 100 | elapsed:    0.1s remaining:   10.9s\n",
      "[Parallel(n_jobs=2)]: Done 100 out of 100 | elapsed:    5.6s finished\n",
      "[Parallel(n_jobs=2)]: Done   1 out of 100 | elapsed:    0.0s remaining:    3.0s\n",
      "[Parallel(n_jobs=2)]: Done 100 out of 100 | elapsed:    1.2s finished\n",
      "[Parallel(n_jobs=2)]: Done   1 out of 100 | elapsed:    0.1s remaining:   11.6s\n",
      "[Parallel(n_jobs=2)]: Done 100 out of 100 | elapsed:    5.7s finished\n",
      "[Parallel(n_jobs=2)]: Done   1 out of 100 | elapsed:    0.0s remaining:    2.4s\n",
      "[Parallel(n_jobs=2)]: Done 100 out of 100 | elapsed:    1.2s finished\n",
      "[Parallel(n_jobs=2)]: Done   1 out of 100 | elapsed:    0.1s remaining:   12.9s\n",
      "[Parallel(n_jobs=2)]: Done 100 out of 100 | elapsed:    6.1s finished\n",
      "[Parallel(n_jobs=2)]: Done   1 out of 100 | elapsed:    0.0s remaining:    3.0s\n",
      "[Parallel(n_jobs=2)]: Done 100 out of 100 | elapsed:    1.4s finished\n",
      "[Parallel(n_jobs=2)]: Done   1 out of 100 | elapsed:    0.1s remaining:   12.2s\n",
      "[Parallel(n_jobs=2)]: Done 100 out of 100 | elapsed:    5.8s finished\n",
      "[Parallel(n_jobs=2)]: Done   1 out of 100 | elapsed:    0.0s remaining:    2.8s\n",
      "[Parallel(n_jobs=2)]: Done 100 out of 100 | elapsed:    1.2s finished\n",
      "[Parallel(n_jobs=2)]: Done   1 out of 100 | elapsed:    0.1s remaining:   12.1s\n",
      "[Parallel(n_jobs=2)]: Done 100 out of 100 | elapsed:    5.7s finished\n",
      "[Parallel(n_jobs=2)]: Done   1 out of 100 | elapsed:    0.0s remaining:    2.3s\n",
      "[Parallel(n_jobs=2)]: Done 100 out of 100 | elapsed:    1.2s finished\n",
      "[Parallel(n_jobs=2)]: Done   1 out of 100 | elapsed:    0.1s remaining:   10.8s\n",
      "[Parallel(n_jobs=2)]: Done 100 out of 100 | elapsed:    5.8s finished\n",
      "[Parallel(n_jobs=2)]: Done   1 out of 100 | elapsed:    0.0s remaining:    2.4s\n",
      "[Parallel(n_jobs=2)]: Done 100 out of 100 | elapsed:    1.2s finished\n",
      "[Parallel(n_jobs=2)]: Done   1 out of 100 | elapsed:    0.1s remaining:   11.5s\n",
      "[Parallel(n_jobs=2)]: Done 100 out of 100 | elapsed:    5.6s finished\n",
      "[Parallel(n_jobs=2)]: Done   1 out of 100 | elapsed:    0.0s remaining:    3.0s\n",
      "[Parallel(n_jobs=2)]: Done 100 out of 100 | elapsed:    1.2s finished\n",
      "[Parallel(n_jobs=2)]: Done   1 out of 100 | elapsed:    0.1s remaining:   10.5s\n",
      "[Parallel(n_jobs=2)]: Done 100 out of 100 | elapsed:    5.6s finished\n",
      "[Parallel(n_jobs=2)]: Done   1 out of 100 | elapsed:    0.0s remaining:    2.2s\n",
      "[Parallel(n_jobs=2)]: Done 100 out of 100 | elapsed:    1.2s finished\n",
      "[Parallel(n_jobs=2)]: Done   1 out of 100 | elapsed:    0.1s remaining:   11.2s\n",
      "[Parallel(n_jobs=2)]: Done 100 out of 100 | elapsed:    5.6s finished\n",
      "[Parallel(n_jobs=2)]: Done   1 out of 100 | elapsed:    0.0s remaining:    2.7s\n",
      "[Parallel(n_jobs=2)]: Done 100 out of 100 | elapsed:    1.2s finished\n",
      "[Parallel(n_jobs=2)]: Done   1 out of 100 | elapsed:    0.1s remaining:   11.0s\n",
      "[Parallel(n_jobs=2)]: Done 100 out of 100 | elapsed:    5.7s finished\n",
      "[Parallel(n_jobs=2)]: Done   1 out of 100 | elapsed:    0.0s remaining:    2.3s\n",
      "[Parallel(n_jobs=2)]: Done 100 out of 100 | elapsed:    1.2s finished\n",
      "[Parallel(n_jobs=2)]: Done   1 out of 100 | elapsed:    0.1s remaining:   11.8s\n",
      "[Parallel(n_jobs=2)]: Done 100 out of 100 | elapsed:    5.7s finished\n",
      "[Parallel(n_jobs=2)]: Done   1 out of  72 | elapsed:    0.0s remaining:    1.5s\n",
      "[Parallel(n_jobs=2)]: Done 100 out of 100 | elapsed:    1.2s finished\n",
      "[Parallel(n_jobs=2)]: Done   1 out of 100 | elapsed:    0.1s remaining:   11.9s\n",
      "[Parallel(n_jobs=2)]: Done 100 out of 100 | elapsed:    5.7s finished\n",
      "[Parallel(n_jobs=2)]: Done   1 out of 100 | elapsed:    0.0s remaining:    2.2s\n",
      "[Parallel(n_jobs=2)]: Done 100 out of 100 | elapsed:    1.2s finished\n",
      "[Parallel(n_jobs=2)]: Done   1 out of 100 | elapsed:    0.1s remaining:   11.8s\n",
      "[Parallel(n_jobs=2)]: Done 100 out of 100 | elapsed:    5.7s finished\n",
      "[Parallel(n_jobs=2)]: Done   1 out of 100 | elapsed:    0.0s remaining:    2.9s\n",
      "[Parallel(n_jobs=2)]: Done 100 out of 100 | elapsed:    1.2s finished\n",
      "[Parallel(n_jobs=2)]: Done   1 out of 100 | elapsed:    0.1s remaining:   11.7s\n",
      "[Parallel(n_jobs=2)]: Done 100 out of 100 | elapsed:    5.7s finished\n",
      "[Parallel(n_jobs=2)]: Done   1 out of 100 | elapsed:    0.0s remaining:    3.1s\n",
      "[Parallel(n_jobs=2)]: Done 100 out of 100 | elapsed:    1.2s finished\n",
      "[Parallel(n_jobs=2)]: Done   1 out of 100 | elapsed:    0.1s remaining:   10.6s\n",
      "[Parallel(n_jobs=2)]: Done 100 out of 100 | elapsed:    5.7s finished\n",
      "[Parallel(n_jobs=2)]: Done   1 out of 100 | elapsed:    0.0s remaining:    2.9s\n",
      "[Parallel(n_jobs=2)]: Done 100 out of 100 | elapsed:    1.2s finished\n",
      "[Parallel(n_jobs=2)]: Done   1 out of 100 | elapsed:    0.1s remaining:   11.0s\n",
      "[Parallel(n_jobs=2)]: Done 100 out of 100 | elapsed:    5.8s finished\n",
      "[Parallel(n_jobs=2)]: Done   1 out of 100 | elapsed:    0.0s remaining:    2.8s\n",
      "[Parallel(n_jobs=2)]: Done 100 out of 100 | elapsed:    1.2s finished\n",
      "[Parallel(n_jobs=2)]: Done   1 out of 100 | elapsed:    0.1s remaining:   11.9s\n",
      "[Parallel(n_jobs=2)]: Done 100 out of 100 | elapsed:    6.0s finished\n",
      "[Parallel(n_jobs=2)]: Done   1 out of 100 | elapsed:    0.0s remaining:    2.4s\n",
      "[Parallel(n_jobs=2)]: Done 100 out of 100 | elapsed:    1.2s finished\n",
      "[Parallel(n_jobs=2)]: Done   1 out of 100 | elapsed:    0.1s remaining:   10.6s\n",
      "[Parallel(n_jobs=2)]: Done 100 out of 100 | elapsed:    5.7s finished\n",
      "[Parallel(n_jobs=2)]: Done   1 out of 100 | elapsed:    0.0s remaining:    2.4s\n",
      "[Parallel(n_jobs=2)]: Done 100 out of 100 | elapsed:    1.2s finished\n",
      "[Parallel(n_jobs=2)]: Done   1 out of 100 | elapsed:    0.1s remaining:   11.9s\n",
      "[Parallel(n_jobs=2)]: Done 100 out of 100 | elapsed:    5.7s finished\n",
      "[Parallel(n_jobs=2)]: Done   1 out of 100 | elapsed:    0.0s remaining:    3.0s\n",
      "[Parallel(n_jobs=2)]: Done 100 out of 100 | elapsed:    1.2s finished\n",
      "[Parallel(n_jobs=2)]: Done   1 out of 100 | elapsed:    0.4s remaining:   43.3s\n",
      "[Parallel(n_jobs=2)]: Done 100 out of 100 | elapsed:    6.1s finished\n",
      "[Parallel(n_jobs=2)]: Done   1 out of 100 | elapsed:    0.0s remaining:    2.2s\n",
      "[Parallel(n_jobs=2)]: Done 100 out of 100 | elapsed:    1.2s finished\n",
      "[Parallel(n_jobs=2)]: Done   1 out of 100 | elapsed:    0.1s remaining:   12.3s\n",
      "[Parallel(n_jobs=2)]: Done 100 out of 100 | elapsed:    5.9s finished\n",
      "[Parallel(n_jobs=2)]: Done   1 out of 100 | elapsed:    0.0s remaining:    2.9s\n",
      "[Parallel(n_jobs=2)]: Done 100 out of 100 | elapsed:    1.2s finished\n",
      "[Parallel(n_jobs=2)]: Done   1 out of 100 | elapsed:    0.1s remaining:   11.7s\n",
      "[Parallel(n_jobs=2)]: Done 100 out of 100 | elapsed:    5.7s finished\n",
      "[Parallel(n_jobs=2)]: Done   1 out of 100 | elapsed:    0.0s remaining:    2.9s\n",
      "[Parallel(n_jobs=2)]: Done 100 out of 100 | elapsed:    1.2s finished\n",
      "[Parallel(n_jobs=2)]: Done   1 out of 100 | elapsed:    0.1s remaining:   12.3s\n",
      "[Parallel(n_jobs=2)]: Done 100 out of 100 | elapsed:    5.8s finished\n",
      "[Parallel(n_jobs=2)]: Done   1 out of 100 | elapsed:    0.0s remaining:    2.2s\n",
      "[Parallel(n_jobs=2)]: Done 100 out of 100 | elapsed:    1.2s finished\n",
      "[Parallel(n_jobs=2)]: Done   1 out of 100 | elapsed:    0.1s remaining:   11.5s\n",
      "[Parallel(n_jobs=2)]: Done 100 out of 100 | elapsed:    5.7s finished\n",
      "[Parallel(n_jobs=2)]: Done   1 out of 100 | elapsed:    0.0s remaining:    2.3s\n",
      "[Parallel(n_jobs=2)]: Done 100 out of 100 | elapsed:    1.2s finished\n",
      "[Parallel(n_jobs=2)]: Done   1 out of 100 | elapsed:    0.1s remaining:   11.8s\n",
      "[Parallel(n_jobs=2)]: Done 100 out of 100 | elapsed:    5.9s finished\n",
      "[Parallel(n_jobs=2)]: Done   1 out of 100 | elapsed:    0.0s remaining:    2.3s\n",
      "[Parallel(n_jobs=2)]: Done 100 out of 100 | elapsed:    1.2s finished\n",
      "[Parallel(n_jobs=2)]: Done   1 out of 100 | elapsed:    0.1s remaining:   12.0s\n",
      "[Parallel(n_jobs=2)]: Done 100 out of 100 | elapsed:    5.8s finished\n",
      "[Parallel(n_jobs=2)]: Done   1 out of 100 | elapsed:    0.0s remaining:    2.8s\n",
      "[Parallel(n_jobs=2)]: Done 100 out of 100 | elapsed:    1.2s finished\n",
      "[Parallel(n_jobs=2)]: Done   1 out of 100 | elapsed:    0.1s remaining:   10.8s\n",
      "[Parallel(n_jobs=2)]: Done 100 out of 100 | elapsed:    5.8s finished\n",
      "[Parallel(n_jobs=2)]: Done   1 out of 100 | elapsed:    0.0s remaining:    2.7s\n",
      "[Parallel(n_jobs=2)]: Done 100 out of 100 | elapsed:    1.2s finished\n",
      "[Parallel(n_jobs=2)]: Done   1 out of 100 | elapsed:    0.1s remaining:   12.1s\n",
      "[Parallel(n_jobs=2)]: Done 100 out of 100 | elapsed:    5.9s finished\n",
      "[Parallel(n_jobs=2)]: Done   1 out of 100 | elapsed:    0.0s remaining:    2.3s\n",
      "[Parallel(n_jobs=2)]: Done 100 out of 100 | elapsed:    1.2s finished\n",
      "[Parallel(n_jobs=2)]: Done   1 out of 100 | elapsed:    0.1s remaining:   11.8s\n",
      "[Parallel(n_jobs=2)]: Done 100 out of 100 | elapsed:    5.8s finished\n",
      "[Parallel(n_jobs=2)]: Done   1 out of 100 | elapsed:    0.0s remaining:    2.8s\n",
      "[Parallel(n_jobs=2)]: Done 100 out of 100 | elapsed:    1.2s finished\n",
      "[Parallel(n_jobs=2)]: Done   1 out of 100 | elapsed:    0.1s remaining:   11.6s\n",
      "[Parallel(n_jobs=2)]: Done 100 out of 100 | elapsed:    5.6s finished\n",
      "[Parallel(n_jobs=2)]: Done   1 out of 100 | elapsed:    0.0s remaining:    2.4s\n",
      "[Parallel(n_jobs=2)]: Done 100 out of 100 | elapsed:    1.2s finished\n",
      "[Parallel(n_jobs=2)]: Done   1 out of 100 | elapsed:    0.1s remaining:   10.8s\n",
      "[Parallel(n_jobs=2)]: Done 100 out of 100 | elapsed:    5.5s finished\n",
      "[Parallel(n_jobs=2)]: Done   1 out of 100 | elapsed:    0.0s remaining:    2.9s\n",
      "[Parallel(n_jobs=2)]: Done 100 out of 100 | elapsed:    1.2s finished\n",
      "[Parallel(n_jobs=2)]: Done   1 out of 100 | elapsed:    0.1s remaining:   10.5s\n",
      "[Parallel(n_jobs=2)]: Done 100 out of 100 | elapsed:    5.7s finished\n",
      "[Parallel(n_jobs=2)]: Done   1 out of 100 | elapsed:    0.0s remaining:    2.8s\n",
      "[Parallel(n_jobs=2)]: Done 100 out of 100 | elapsed:    1.2s finished\n",
      "[Parallel(n_jobs=2)]: Done   1 out of 100 | elapsed:    0.1s remaining:   10.8s\n",
      "[Parallel(n_jobs=2)]: Done 100 out of 100 | elapsed:    5.6s finished\n",
      "[Parallel(n_jobs=2)]: Done   1 out of 100 | elapsed:    0.0s remaining:    2.2s\n",
      "[Parallel(n_jobs=2)]: Done 100 out of 100 | elapsed:    1.2s finished\n",
      "[Parallel(n_jobs=2)]: Done   1 out of 100 | elapsed:    0.1s remaining:   11.3s\n",
      "[Parallel(n_jobs=2)]: Done 100 out of 100 | elapsed:    5.7s finished\n",
      "[Parallel(n_jobs=2)]: Done   1 out of  66 | elapsed:    0.0s remaining:    1.5s\n",
      "[Parallel(n_jobs=2)]: Done 100 out of 100 | elapsed:    1.2s finished\n",
      "[Parallel(n_jobs=2)]: Done   1 out of 100 | elapsed:    0.1s remaining:   10.9s\n",
      "[Parallel(n_jobs=2)]: Done 100 out of 100 | elapsed:    5.6s finished\n",
      "[Parallel(n_jobs=2)]: Done   1 out of 100 | elapsed:    0.0s remaining:    2.2s\n",
      "[Parallel(n_jobs=2)]: Done 100 out of 100 | elapsed:    1.2s finished\n",
      "[Parallel(n_jobs=2)]: Done   1 out of 100 | elapsed:    0.2s remaining:   18.4s\n",
      "[Parallel(n_jobs=2)]: Done 100 out of 100 | elapsed:    5.6s finished\n",
      "[Parallel(n_jobs=2)]: Done   1 out of 100 | elapsed:    0.0s remaining:    2.2s\n",
      "[Parallel(n_jobs=2)]: Done 100 out of 100 | elapsed:    1.2s finished\n",
      "[Parallel(n_jobs=2)]: Done   1 out of 100 | elapsed:    0.1s remaining:   13.0s\n",
      "[Parallel(n_jobs=2)]: Done 100 out of 100 | elapsed:    6.1s finished\n",
      "[Parallel(n_jobs=2)]: Done   1 out of 100 | elapsed:    0.0s remaining:    2.8s\n",
      "[Parallel(n_jobs=2)]: Done 100 out of 100 | elapsed:    1.2s finished\n",
      "[Parallel(n_jobs=2)]: Done   1 out of 100 | elapsed:    0.1s remaining:   11.0s\n",
      "[Parallel(n_jobs=2)]: Done 100 out of 100 | elapsed:    6.2s finished\n",
      "[Parallel(n_jobs=2)]: Done   1 out of 100 | elapsed:    0.0s remaining:    2.1s\n",
      "[Parallel(n_jobs=2)]: Done 100 out of 100 | elapsed:    1.4s finished\n",
      "[Parallel(n_jobs=2)]: Done   1 out of 100 | elapsed:    0.1s remaining:   11.5s\n",
      "[Parallel(n_jobs=2)]: Done 100 out of 100 | elapsed:    6.2s finished\n",
      "[Parallel(n_jobs=2)]: Done   1 out of 100 | elapsed:    0.0s remaining:    2.2s\n",
      "[Parallel(n_jobs=2)]: Done 100 out of 100 | elapsed:    1.3s finished\n",
      "[Parallel(n_jobs=2)]: Done   1 out of 100 | elapsed:    0.1s remaining:   11.1s\n",
      "[Parallel(n_jobs=2)]: Done 100 out of 100 | elapsed:    6.5s finished\n",
      "[Parallel(n_jobs=2)]: Done   1 out of 100 | elapsed:    0.0s remaining:    2.2s\n",
      "[Parallel(n_jobs=2)]: Done 100 out of 100 | elapsed:    1.2s finished\n",
      "[Parallel(n_jobs=2)]: Done   1 out of 100 | elapsed:    0.1s remaining:   11.6s\n",
      "[Parallel(n_jobs=2)]: Done 100 out of 100 | elapsed:    5.6s finished\n",
      "[Parallel(n_jobs=2)]: Done   1 out of 100 | elapsed:    0.0s remaining:    2.1s\n",
      "[Parallel(n_jobs=2)]: Done 100 out of 100 | elapsed:    1.2s finished\n",
      "[Parallel(n_jobs=2)]: Done   1 out of 100 | elapsed:    0.1s remaining:   11.0s\n",
      "[Parallel(n_jobs=2)]: Done 100 out of 100 | elapsed:    5.5s finished\n",
      "[Parallel(n_jobs=2)]: Done   1 out of 100 | elapsed:    0.0s remaining:    2.3s\n",
      "[Parallel(n_jobs=2)]: Done 100 out of 100 | elapsed:    1.2s finished\n",
      "[Parallel(n_jobs=2)]: Done   1 out of 100 | elapsed:    0.1s remaining:   10.9s\n",
      "[Parallel(n_jobs=2)]: Done 100 out of 100 | elapsed:    5.5s finished\n",
      "[Parallel(n_jobs=2)]: Done   1 out of 100 | elapsed:    0.0s remaining:    2.8s\n",
      "[Parallel(n_jobs=2)]: Done 100 out of 100 | elapsed:    1.2s finished\n",
      "[Parallel(n_jobs=2)]: Done   1 out of 100 | elapsed:    0.1s remaining:    9.9s\n",
      "[Parallel(n_jobs=2)]: Done 100 out of 100 | elapsed:    5.5s finished\n",
      "[Parallel(n_jobs=2)]: Done   1 out of 100 | elapsed:    0.0s remaining:    2.5s\n",
      "[Parallel(n_jobs=2)]: Done 100 out of 100 | elapsed:    1.2s finished\n",
      "[Parallel(n_jobs=2)]: Done   1 out of 100 | elapsed:    0.1s remaining:   11.6s\n",
      "[Parallel(n_jobs=2)]: Done 100 out of 100 | elapsed:    5.5s finished\n",
      "[Parallel(n_jobs=2)]: Done   1 out of 100 | elapsed:    0.0s remaining:    2.1s\n",
      "[Parallel(n_jobs=2)]: Done 100 out of 100 | elapsed:    1.2s finished\n",
      "[Parallel(n_jobs=2)]: Done   1 out of 100 | elapsed:    0.1s remaining:   11.0s\n",
      "[Parallel(n_jobs=2)]: Done 100 out of 100 | elapsed:    5.5s finished\n",
      "[Parallel(n_jobs=2)]: Done   1 out of 100 | elapsed:    0.0s remaining:    2.3s\n",
      "[Parallel(n_jobs=2)]: Done 100 out of 100 | elapsed:    1.2s finished\n",
      "[Parallel(n_jobs=2)]: Done   1 out of 100 | elapsed:    0.1s remaining:    9.9s\n",
      "[Parallel(n_jobs=2)]: Done 100 out of 100 | elapsed:    5.5s finished\n",
      "[Parallel(n_jobs=2)]: Done   1 out of 100 | elapsed:    0.0s remaining:    2.1s\n",
      "[Parallel(n_jobs=2)]: Done 100 out of 100 | elapsed:    1.2s finished\n",
      "[Parallel(n_jobs=2)]: Done   1 out of 100 | elapsed:    0.1s remaining:   10.5s\n",
      "[Parallel(n_jobs=2)]: Done 100 out of 100 | elapsed:    5.5s finished\n",
      "[Parallel(n_jobs=2)]: Done   1 out of 100 | elapsed:    0.0s remaining:    2.3s\n",
      "[Parallel(n_jobs=2)]: Done 100 out of 100 | elapsed:    1.2s finished\n",
      "[Parallel(n_jobs=2)]: Done   1 out of 100 | elapsed:    0.1s remaining:   10.5s\n",
      "[Parallel(n_jobs=2)]: Done 100 out of 100 | elapsed:    5.5s finished\n",
      "[Parallel(n_jobs=2)]: Done   1 out of 100 | elapsed:    0.0s remaining:    2.5s\n",
      "[Parallel(n_jobs=2)]: Done 100 out of 100 | elapsed:    1.2s finished\n",
      "[Parallel(n_jobs=2)]: Done   1 out of 100 | elapsed:    0.1s remaining:   10.2s\n",
      "[Parallel(n_jobs=2)]: Done 100 out of 100 | elapsed:    5.5s finished\n",
      "[Parallel(n_jobs=2)]: Done   1 out of 100 | elapsed:    0.0s remaining:    2.7s\n",
      "[Parallel(n_jobs=2)]: Done 100 out of 100 | elapsed:    1.3s finished\n",
      "[Parallel(n_jobs=2)]: Done   1 out of 100 | elapsed:    0.1s remaining:   12.8s\n",
      "[Parallel(n_jobs=2)]: Done 100 out of 100 | elapsed:    5.7s finished\n",
      "[Parallel(n_jobs=2)]: Done   1 out of 100 | elapsed:    0.0s remaining:    2.9s\n",
      "[Parallel(n_jobs=2)]: Done 100 out of 100 | elapsed:    1.2s finished\n",
      "[Parallel(n_jobs=2)]: Done   1 out of 100 | elapsed:    0.1s remaining:   11.0s\n",
      "[Parallel(n_jobs=2)]: Done 100 out of 100 | elapsed:    5.5s finished\n",
      "[Parallel(n_jobs=2)]: Done   1 out of 100 | elapsed:    0.0s remaining:    2.8s\n",
      "[Parallel(n_jobs=2)]: Done 100 out of 100 | elapsed:    1.2s finished\n",
      "[Parallel(n_jobs=2)]: Done   1 out of 100 | elapsed:    0.1s remaining:   10.1s\n",
      "[Parallel(n_jobs=2)]: Done 100 out of 100 | elapsed:    5.6s finished\n",
      "[Parallel(n_jobs=2)]: Done   1 out of 100 | elapsed:    0.0s remaining:    2.2s\n",
      "[Parallel(n_jobs=2)]: Done 100 out of 100 | elapsed:    1.2s finished\n",
      "[Parallel(n_jobs=2)]: Done   1 out of 100 | elapsed:    0.1s remaining:   10.2s\n",
      "[Parallel(n_jobs=2)]: Done 100 out of 100 | elapsed:    5.2s finished\n",
      "[Parallel(n_jobs=2)]: Done   1 out of 100 | elapsed:    0.0s remaining:    2.2s\n",
      "[Parallel(n_jobs=2)]: Done 100 out of 100 | elapsed:    1.1s finished\n",
      "[Parallel(n_jobs=2)]: Done   1 out of 100 | elapsed:    0.1s remaining:   10.3s\n",
      "[Parallel(n_jobs=2)]: Done 100 out of 100 | elapsed:    5.3s finished\n",
      "[Parallel(n_jobs=2)]: Done   1 out of 100 | elapsed:    0.0s remaining:    2.9s\n",
      "[Parallel(n_jobs=2)]: Done 100 out of 100 | elapsed:    1.2s finished\n",
      "[Parallel(n_jobs=2)]: Done   1 out of 100 | elapsed:    0.1s remaining:   11.3s\n",
      "[Parallel(n_jobs=2)]: Done 100 out of 100 | elapsed:    5.3s finished\n",
      "[Parallel(n_jobs=2)]: Done   1 out of 100 | elapsed:    0.0s remaining:    2.3s\n",
      "[Parallel(n_jobs=2)]: Done 100 out of 100 | elapsed:    1.2s finished\n",
      "[Parallel(n_jobs=2)]: Done   1 out of 100 | elapsed:    0.1s remaining:   10.1s\n",
      "[Parallel(n_jobs=2)]: Done 100 out of 100 | elapsed:    5.3s finished\n",
      "[Parallel(n_jobs=2)]: Done   1 out of 100 | elapsed:    0.0s remaining:    2.2s\n",
      "[Parallel(n_jobs=2)]: Done 100 out of 100 | elapsed:    1.1s finished\n",
      "[Parallel(n_jobs=2)]: Done   1 out of 100 | elapsed:    0.1s remaining:   11.4s\n",
      "[Parallel(n_jobs=2)]: Done 100 out of 100 | elapsed:    5.3s finished\n",
      "[Parallel(n_jobs=2)]: Done   1 out of 100 | elapsed:    0.0s remaining:    2.3s\n",
      "[Parallel(n_jobs=2)]: Done 100 out of 100 | elapsed:    1.2s finished\n",
      "[Parallel(n_jobs=2)]: Done   1 out of 100 | elapsed:    0.1s remaining:    9.9s\n",
      "[Parallel(n_jobs=2)]: Done 100 out of 100 | elapsed:    5.3s finished\n",
      "[Parallel(n_jobs=2)]: Done   1 out of 100 | elapsed:    0.0s remaining:    2.8s\n",
      "[Parallel(n_jobs=2)]: Done 100 out of 100 | elapsed:    1.1s finished\n",
      "[Parallel(n_jobs=2)]: Done   1 out of 100 | elapsed:    0.1s remaining:    9.9s\n",
      "[Parallel(n_jobs=2)]: Done 100 out of 100 | elapsed:    5.3s finished\n",
      "[Parallel(n_jobs=2)]: Done   1 out of 100 | elapsed:    0.0s remaining:    2.3s\n",
      "[Parallel(n_jobs=2)]: Done 100 out of 100 | elapsed:    1.1s finished\n",
      "[Parallel(n_jobs=2)]: Done   1 out of 100 | elapsed:    0.1s remaining:    9.7s\n",
      "[Parallel(n_jobs=2)]: Done 100 out of 100 | elapsed:    5.3s finished\n",
      "[Parallel(n_jobs=2)]: Done   1 out of 100 | elapsed:    0.0s remaining:    3.6s\n",
      "[Parallel(n_jobs=2)]: Done 100 out of 100 | elapsed:    1.1s finished\n",
      "[Parallel(n_jobs=2)]: Done   1 out of 100 | elapsed:    0.1s remaining:   10.1s\n",
      "[Parallel(n_jobs=2)]: Done 100 out of 100 | elapsed:    5.4s finished\n",
      "[Parallel(n_jobs=2)]: Done   1 out of 100 | elapsed:    0.0s remaining:    2.1s\n",
      "[Parallel(n_jobs=2)]: Done 100 out of 100 | elapsed:    1.2s finished\n",
      "[Parallel(n_jobs=2)]: Done   1 out of 100 | elapsed:    0.1s remaining:   10.1s\n",
      "[Parallel(n_jobs=2)]: Done 100 out of 100 | elapsed:    5.5s finished\n",
      "[Parallel(n_jobs=2)]: Done   1 out of 100 | elapsed:    0.0s remaining:    2.6s\n",
      "[Parallel(n_jobs=2)]: Done 100 out of 100 | elapsed:    1.1s finished\n",
      "[Parallel(n_jobs=2)]: Done   1 out of 100 | elapsed:    0.1s remaining:   10.4s\n",
      "[Parallel(n_jobs=2)]: Done 100 out of 100 | elapsed:    5.3s finished\n",
      "[Parallel(n_jobs=2)]: Done   1 out of 100 | elapsed:    0.0s remaining:    2.3s\n",
      "[Parallel(n_jobs=2)]: Done 100 out of 100 | elapsed:    1.1s finished\n",
      "[Parallel(n_jobs=2)]: Done   1 out of 100 | elapsed:    0.1s remaining:   11.0s\n",
      "[Parallel(n_jobs=2)]: Done 100 out of 100 | elapsed:    5.3s finished\n",
      "[Parallel(n_jobs=2)]: Done   1 out of 100 | elapsed:    0.0s remaining:    2.4s\n",
      "[Parallel(n_jobs=2)]: Done 100 out of 100 | elapsed:    1.3s finished\n",
      "[Parallel(n_jobs=2)]: Done   1 out of 100 | elapsed:    0.3s remaining:   32.6s\n",
      "[Parallel(n_jobs=2)]: Done 100 out of 100 | elapsed:   13.6s finished\n"
     ]
    },
    {
     "name": "stdout",
     "output_type": "stream",
     "text": [
      "{'min_samples_split': 2, 'min_samples_leaf': 3}\n"
     ]
    }
   ],
   "source": [
    "from sklearn.grid_search import GridSearchCV\n",
    "param_grid = { \n",
    "    'min_samples_split':[1, 2, 3, 4, 5, 6],\n",
    "    'min_samples_leaf': [1, 2, 3, 4, 5, 6]\n",
    "}\n",
    "\n",
    "CV_rfc = GridSearchCV(estimator=rf, param_grid=param_grid, cv= 2)\n",
    "CV_rfc.fit(train_x, labels_x)\n",
    "print CV_rfc.best_params_"
   ]
  },
  {
   "cell_type": "code",
   "execution_count": 14,
   "metadata": {
    "collapsed": false
   },
   "outputs": [
    {
     "ename": "AttributeError",
     "evalue": "'GridSearchCV' object has no attribute 'best_params_'",
     "output_type": "error",
     "traceback": [
      "\u001b[0;31m---------------------------------------------------------------------------\u001b[0m",
      "\u001b[0;31mAttributeError\u001b[0m                            Traceback (most recent call last)",
      "\u001b[0;32m<ipython-input-14-254be7fc6e71>\u001b[0m in \u001b[0;36m<module>\u001b[0;34m()\u001b[0m\n\u001b[0;32m----> 1\u001b[0;31m \u001b[0mCV_rfc\u001b[0m\u001b[0;34m.\u001b[0m\u001b[0mbest_params_\u001b[0m\u001b[0;34m\u001b[0m\u001b[0m\n\u001b[0m",
      "\u001b[0;31mAttributeError\u001b[0m: 'GridSearchCV' object has no attribute 'best_params_'"
     ]
    }
   ],
   "source": [
    "CV_rfc.best_params_"
   ]
  },
  {
   "cell_type": "code",
   "execution_count": null,
   "metadata": {
    "collapsed": true
   },
   "outputs": [],
   "source": []
  }
 ],
 "metadata": {
  "kernelspec": {
   "display_name": "Python 2",
   "language": "python",
   "name": "python2"
  },
  "language_info": {
   "codemirror_mode": {
    "name": "ipython",
    "version": 2
   },
   "file_extension": ".py",
   "mimetype": "text/x-python",
   "name": "python",
   "nbconvert_exporter": "python",
   "pygments_lexer": "ipython2",
   "version": "2.7.10"
  }
 },
 "nbformat": 4,
 "nbformat_minor": 0
}
